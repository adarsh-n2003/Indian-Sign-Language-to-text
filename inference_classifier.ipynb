import os
import pickle
from sklearn.ensemble import RandomForestClassifier
from sklearn.model_selection import train_test_split
from sklearn.metrics import accuracy_score
import numpy as np

# Load dataset
data_dict = pickle.load(open('./data.pickle', 'rb'))

# Define expected feature length
expected_features_one_hand = 42
expected_features_two_hands = 84  # Final input size for training

# Create label mapping
unique_labels = sorted(set(data_dict['labels']))
label_map = {label: idx for idx, label in enumerate(unique_labels)}
print(f"Label Mapping: {label_map}")

# Process dataset
data = []
labels = []

for i, entry in enumerate(data_dict['data']):
    if len(entry) == expected_features_one_hand:
        # Pad single-hand data to match two-hand input length
        padded_entry = entry + [0] * expected_features_one_hand
        data.append(padded_entry)
        labels.append(label_map[data_dict['labels'][i]])
    elif len(entry) == expected_features_two_hands:
        data.append(entry)
        labels.append(label_map[data_dict['labels'][i]])
    else:
        print(f"Skipping entry {i} with invalid length {len(entry)}")

# Convert to NumPy arrays
data = np.asarray(data, dtype=float)
labels = np.asarray(labels, dtype=int)

# Train-test split
x_train, x_test, y_train, y_test = train_test_split(data, labels, test_size=0.2, stratify=labels)

# Train the model
model = RandomForestClassifier(n_estimators=100, random_state=42)
model.fit(x_train, y_train)

# Evaluate the model
y_predict = model.predict(x_test)
accuracy = accuracy_score(y_test, y_predict)
print(f'Accuracy: {accuracy * 100:.2f}%')

# Save the model and label map
with open('model.p', 'wb') as f:
    pickle.dump({'model': model, 'label_map': label_map}, f)
