{
 "cells": [
  {
   "cell_type": "code",
   "execution_count": 4,
   "metadata": {},
   "outputs": [],
   "source": [
    "import os\n",
    "import pickle\n",
    "import mediapipe as mp\n",
    "import cv2\n",
    "\n",
    "mp_hands = mp.solutions.hands\n",
    "hands = mp_hands.Hands(static_image_mode=True, min_detection_confidence=0.3)\n",
    "\n",
    "DATA_DIR = './data'\n",
    "data = []\n",
    "labels = []\n",
    "\n",
    "for dir_ in os.listdir(DATA_DIR):\n",
    "    for img_path in os.listdir(os.path.join(DATA_DIR, dir_)):\n",
    "        data_aux = []\n",
    "        x_ = []\n",
    "        y_ = []\n",
    "\n",
    "        img = cv2.imread(os.path.join(DATA_DIR, dir_, img_path))\n",
    "        img_rgb = cv2.cvtColor(img, cv2.COLOR_BGR2RGB)\n",
    "        results = hands.process(img_rgb)\n",
    "        \n",
    "        if results.multi_hand_landmarks:\n",
    "            for hand_landmarks in results.multi_hand_landmarks:\n",
    "                hand_data = []\n",
    "                x_hand = []\n",
    "                y_hand = []\n",
    "                \n",
    "                # Collect landmark data for each hand separately\n",
    "                for lm in hand_landmarks.landmark:\n",
    "                    x_hand.append(lm.x)\n",
    "                    y_hand.append(lm.y)\n",
    "                \n",
    "                for lm in hand_landmarks.landmark:\n",
    "                    hand_data.append(lm.x - min(x_hand))\n",
    "                    hand_data.append(lm.y - min(y_hand))\n",
    "                \n",
    "                # Append hand data for both hands\n",
    "                data_aux.extend(hand_data)\n",
    "        \n",
    "        if data_aux:  # Check if landmarks were extracted\n",
    "            data.append(data_aux)\n",
    "            labels.append(dir_)\n",
    "\n",
    "# Save the dataset\n",
    "with open('data.pickle', 'wb') as f:\n",
    "    pickle.dump({'data': data, 'labels': labels}, f)\n"
   ]
  }
 ],
 "metadata": {
  "kernelspec": {
   "display_name": "base",
   "language": "python",
   "name": "python3"
  },
  "language_info": {
   "codemirror_mode": {
    "name": "ipython",
    "version": 3
   },
   "file_extension": ".py",
   "mimetype": "text/x-python",
   "name": "python",
   "nbconvert_exporter": "python",
   "pygments_lexer": "ipython3",
   "version": "3.11.7"
  }
 },
 "nbformat": 4,
 "nbformat_minor": 2
}
