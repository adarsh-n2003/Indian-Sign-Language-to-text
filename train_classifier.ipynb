{
 "cells": [
  {
   "cell_type": "code",
   "execution_count": 2,
   "metadata": {},
   "outputs": [
    {
     "name": "stdout",
     "output_type": "stream",
     "text": [
      "Counter({'4': 199, '29': 195, '23': 194, '30': 194, '17': 192, '3': 191, '31': 189, '7': 186, '8': 181, '20': 179, '2': 178, '5': 166, '6': 166, '0': 115, '1': 115, '26': 111, '9': 84, '11': 81, '14': 69, '10': 67, '16': 34, '25': 34, '22': 27, '28': 26, '18': 23, '12': 22, '27': 22, '13': 21, '32': 20, '24': 15, '15': 11, '34': 10, '21': 9, '19': 3, '33': 1})\n",
      "93.24324324324324% of samples were classified correctly!\n"
     ]
    }
   ],
   "source": [
    "import pickle\n",
    "from sklearn.ensemble import RandomForestClassifier\n",
    "from sklearn.model_selection import train_test_split\n",
    "from sklearn.metrics import accuracy_score\n",
    "import numpy as np\n",
    "from collections import Counter\n",
    "\n",
    "# Define the expected feature length\n",
    "expected_length = 42\n",
    "\n",
    "# Load the data\n",
    "data_dict = pickle.load(open('./data.pickle', 'rb'))\n",
    "\n",
    "# Convert data and labels to consistent arrays by ensuring fixed feature length\n",
    "data = [np.array(sample) for sample in data_dict['data'] if len(sample) == expected_length]\n",
    "labels = [label for i, label in enumerate(data_dict['labels']) if len(data_dict['data'][i]) == expected_length]\n",
    "\n",
    "# Convert to NumPy arrays\n",
    "data = np.array(data)\n",
    "labels = np.array(labels)\n",
    "\n",
    "# Check the distribution of labels\n",
    "label_counts = Counter(labels)\n",
    "print(label_counts)\n",
    "\n",
    "# Identify and remove classes with only one sample\n",
    "classes_to_remove = [label for label, count in label_counts.items() if count == 1]\n",
    "data_filtered = [sample for i, sample in enumerate(data) if labels[i] not in classes_to_remove]\n",
    "labels_filtered = [label for label in labels if label not in classes_to_remove]\n",
    "\n",
    "# Convert to NumPy arrays again after filtering\n",
    "data_filtered = np.array(data_filtered)\n",
    "labels_filtered = np.array(labels_filtered)\n",
    "\n",
    "# Split the filtered data\n",
    "x_train, x_test, y_train, y_test = train_test_split(data_filtered, labels_filtered, test_size=0.2, shuffle=True, stratify=labels_filtered)\n",
    "\n",
    "# Train the classifier\n",
    "model = RandomForestClassifier()\n",
    "model.fit(x_train, y_train)\n",
    "\n",
    "# Predict and calculate accuracy\n",
    "y_predict = model.predict(x_test)\n",
    "score = accuracy_score(y_predict, y_test)\n",
    "\n",
    "print('{}% of samples were classified correctly!'.format(score * 100))\n",
    "\n",
    "# Save the model\n",
    "with open('model.p', 'wb') as f:\n",
    "    pickle.dump({'model': model}, f)\n"
   ]
  }
 ],
 "metadata": {
  "kernelspec": {
   "display_name": "base",
   "language": "python",
   "name": "python3"
  },
  "language_info": {
   "codemirror_mode": {
    "name": "ipython",
    "version": 3
   },
   "file_extension": ".py",
   "mimetype": "text/x-python",
   "name": "python",
   "nbconvert_exporter": "python",
   "pygments_lexer": "ipython3",
   "version": "3.11.7"
  }
 },
 "nbformat": 4,
 "nbformat_minor": 2
}
